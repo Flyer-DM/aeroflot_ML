{
 "cells": [
  {
   "cell_type": "code",
   "execution_count": 18,
   "id": "4711e73a",
   "metadata": {},
   "outputs": [],
   "source": [
    "import os\n",
    "import warnings\n",
    "import time\n",
    "import random\n",
    "import datetime\n",
    "import pickle\n",
    "# обработка данных\n",
    "import pandas as pd\n",
    "import numpy as np\n",
    "from itertools import product\n",
    "from sklearn.model_selection import train_test_split\n",
    "from sklearn.base import BaseEstimator\n",
    "# визуализация данных\n",
    "import matplotlib.pyplot as plt\n",
    "from tqdm import tqdm\n",
    "# модели для обучения\n",
    "from sklearn.neighbors import KNeighborsRegressor\n",
    "# метрики точности моделей\n",
    "from sklearn.metrics import mean_absolute_error\n",
    "from sklearn.metrics import r2_score\n",
    "\n",
    "warnings.filterwarnings(\"ignore\")"
   ]
  },
  {
   "cell_type": "markdown",
   "id": "939bfa63",
   "metadata": {},
   "source": [
    "# Предобработка данных"
   ]
  },
  {
   "cell_type": "code",
   "execution_count": 2,
   "id": "a715f837",
   "metadata": {},
   "outputs": [],
   "source": [
    "paths = os.listdir(path='F:\\\\')\n",
    "bb_path = list(filter(lambda file: file.endswith('BB.csv'), paths))[0]\n",
    "hh_path = list(filter(lambda file: file.endswith('HH.csv'), paths))[0]"
   ]
  },
  {
   "cell_type": "code",
   "execution_count": 3,
   "id": "0ee01d36",
   "metadata": {},
   "outputs": [],
   "source": [
    "use_cols = ('FLTDAT', 'FLTTIME', 'FLTNUM')\n",
    "dates = ['FLTDAT']\n",
    "dtypes = {'FLTNUM': 'int16'}\n",
    "bb = pd.read_csv('F:\\\\' + bb_path, delimiter=';', dtype=dtypes, parse_dates=dates, usecols=use_cols)\n",
    "bb = bb.dropna(how='any', axis=0)\n",
    "bb.drop_duplicates(inplace=True)"
   ]
  },
  {
   "cell_type": "code",
   "execution_count": 4,
   "id": "299dba3c",
   "metadata": {},
   "outputs": [],
   "source": [
    "use_cols = ('FLT_NUM', 'DD', 'SEG_CLASS_CODE', 'FCLCLD',\n",
    "            'PASS_BK', 'SA', 'AU', 'PASS_DEP', 'NS', 'DTD')\n",
    "dates = ['DD']\n",
    "dtypes = {'FLT_NUM': 'int16', 'FCLCLD': 'int16', 'PASS_BK': 'int16','SA': 'int16',\n",
    "          'AU': 'int16', 'PASS_DEP': 'int16', 'NS': 'int16', 'DTD': 'int16'}\n",
    "hh = pd.read_csv('F:\\\\hh_for_profiles.csv', dtype=dtypes, parse_dates=dates, usecols=use_cols)\n",
    "hh = hh[hh['FCLCLD'] == 0]\n",
    "hh.drop_duplicates(inplace=True)"
   ]
  },
  {
   "cell_type": "code",
   "execution_count": 9,
   "id": "8c20689a",
   "metadata": {},
   "outputs": [
    {
     "name": "stderr",
     "output_type": "stream",
     "text": [
      "100%|██████████████████████████████████████████████████████████████████████████████████| 22/22 [04:43<00:00, 12.90s/it]\n"
     ]
    }
   ],
   "source": [
    "apr_days, may_days = [29, 30], [1, 6, 7, 8, 9]\n",
    "dec_days, jan_days = [29, 30, 31], [1, 2, 3, 4, 5, 6, 7, 8]\n",
    "april, may, december, january = 4, 5, 12, 1\n",
    "origin = datetime.datetime(1970, 1, 1)\n",
    "for scd in tqdm(hh['SEG_CLASS_CODE'].unique()):\n",
    "    subset = hh[hh['SEG_CLASS_CODE'] == scd]\n",
    "    subset = pd.merge(bb, subset, left_on=['FLTNUM', 'FLTDAT'], right_on=['FLT_NUM', 'DD'])\n",
    "    subset.dropna(how='any', axis=0, inplace=True)\n",
    "    subset.drop(columns=['DD', 'FLT_NUM'], inplace=True)\n",
    "    subset.drop_duplicates(inplace=True)\n",
    "    subset['FLTDAT'] = pd.to_datetime(subset['FLTDAT'])\n",
    "    subset['FLTTIME'] = pd.to_datetime(subset['FLTTIME'])\n",
    "    subset['fltHour'] = subset['FLTTIME'].dt.hour\n",
    "    subset['fltMinute'] = subset['FLTTIME'].dt.minute\n",
    "    subset['weekend'] = (subset['FLTDAT'].dt.dayofweek > 4).astype(int) # 1 - выходной / 0 - рабочий\n",
    "    subset['dayOfWeek'] = subset['FLTDAT'].dt.dayofweek # дни недели\n",
    "    subset['holidays'] = \\\n",
    "    ((subset['FLTDAT'].dt.day.isin(apr_days)) & (subset['FLTDAT'].dt.month == april)   | # весенние\n",
    "    (subset['FLTDAT'].dt.day.isin(may_days)) & (subset['FLTDAT'].dt.month == may)      | # 9 мая\n",
    "    (subset['FLTDAT'].dt.day.isin(dec_days)) & (subset['FLTDAT'].dt.month == december) |  # преднг дни\n",
    "    (subset['FLTDAT'].dt.day.isin(jan_days)) & (subset['FLTDAT'].dt.month == january))    # новогодние\n",
    "    subset['holidays'] = subset['holidays'].astype(int)\n",
    "    subset['FLTDAT'] = (subset['FLTDAT'] - origin).dt.days\n",
    "    subset.drop(columns=['FCLCLD', 'PASS_DEP', 'FLTTIME'], inplace=True)\n",
    "    subset.drop_duplicates(inplace=True)\n",
    "    subset.to_csv(f'F:\\\\reg_prepared\\\\SVO-AER_2018-01-01--2019-12-31reg_{scd}.csv', index=False)\n",
    "del apr_days, may_days, dec_days, jan_days, april, may, december, january, origin"
   ]
  },
  {
   "cell_type": "markdown",
   "id": "d83907f3",
   "metadata": {},
   "source": [
    "# Подготовка данных"
   ]
  },
  {
   "cell_type": "code",
   "execution_count": 10,
   "id": "d6abd2da",
   "metadata": {},
   "outputs": [
    {
     "name": "stderr",
     "output_type": "stream",
     "text": [
      "100%|██████████████████████████████████████████████████████████████████████████████████| 22/22 [00:01<00:00, 12.16it/s]\n"
     ]
    },
    {
     "data": {
      "text/html": [
       "<div>\n",
       "<style scoped>\n",
       "    .dataframe tbody tr th:only-of-type {\n",
       "        vertical-align: middle;\n",
       "    }\n",
       "\n",
       "    .dataframe tbody tr th {\n",
       "        vertical-align: top;\n",
       "    }\n",
       "\n",
       "    .dataframe thead th {\n",
       "        text-align: right;\n",
       "    }\n",
       "</style>\n",
       "<table border=\"1\" class=\"dataframe\">\n",
       "  <thead>\n",
       "    <tr style=\"text-align: right;\">\n",
       "      <th>L</th>\n",
       "      <th>FLTDAT</th>\n",
       "      <th>FLTNUM</th>\n",
       "      <th>PASS_BK</th>\n",
       "      <th>SA</th>\n",
       "      <th>AU</th>\n",
       "      <th>NS</th>\n",
       "      <th>DTD</th>\n",
       "      <th>fltHour</th>\n",
       "      <th>fltMinute</th>\n",
       "      <th>weekend</th>\n",
       "      <th>dayOfWeek</th>\n",
       "      <th>holidays</th>\n",
       "    </tr>\n",
       "  </thead>\n",
       "  <tbody>\n",
       "    <tr>\n",
       "      <th>0</th>\n",
       "      <td>17552</td>\n",
       "      <td>1124</td>\n",
       "      <td>0</td>\n",
       "      <td>137</td>\n",
       "      <td>137</td>\n",
       "      <td>0</td>\n",
       "      <td>177</td>\n",
       "      <td>13</td>\n",
       "      <td>35</td>\n",
       "      <td>1</td>\n",
       "      <td>6</td>\n",
       "      <td>0</td>\n",
       "    </tr>\n",
       "    <tr>\n",
       "      <th>1</th>\n",
       "      <td>17552</td>\n",
       "      <td>1124</td>\n",
       "      <td>0</td>\n",
       "      <td>137</td>\n",
       "      <td>137</td>\n",
       "      <td>0</td>\n",
       "      <td>178</td>\n",
       "      <td>13</td>\n",
       "      <td>35</td>\n",
       "      <td>1</td>\n",
       "      <td>6</td>\n",
       "      <td>0</td>\n",
       "    </tr>\n",
       "    <tr>\n",
       "      <th>2</th>\n",
       "      <td>17552</td>\n",
       "      <td>1124</td>\n",
       "      <td>0</td>\n",
       "      <td>137</td>\n",
       "      <td>137</td>\n",
       "      <td>0</td>\n",
       "      <td>179</td>\n",
       "      <td>13</td>\n",
       "      <td>35</td>\n",
       "      <td>1</td>\n",
       "      <td>6</td>\n",
       "      <td>0</td>\n",
       "    </tr>\n",
       "    <tr>\n",
       "      <th>3</th>\n",
       "      <td>17552</td>\n",
       "      <td>1124</td>\n",
       "      <td>0</td>\n",
       "      <td>137</td>\n",
       "      <td>137</td>\n",
       "      <td>0</td>\n",
       "      <td>180</td>\n",
       "      <td>13</td>\n",
       "      <td>35</td>\n",
       "      <td>1</td>\n",
       "      <td>6</td>\n",
       "      <td>0</td>\n",
       "    </tr>\n",
       "    <tr>\n",
       "      <th>4</th>\n",
       "      <td>17552</td>\n",
       "      <td>1124</td>\n",
       "      <td>0</td>\n",
       "      <td>137</td>\n",
       "      <td>137</td>\n",
       "      <td>0</td>\n",
       "      <td>176</td>\n",
       "      <td>13</td>\n",
       "      <td>35</td>\n",
       "      <td>1</td>\n",
       "      <td>6</td>\n",
       "      <td>0</td>\n",
       "    </tr>\n",
       "  </tbody>\n",
       "</table>\n",
       "</div>"
      ],
      "text/plain": [
       "L  FLTDAT  FLTNUM  PASS_BK   SA   AU  NS  DTD  fltHour  fltMinute  weekend  \\\n",
       "0   17552    1124        0  137  137   0  177       13         35        1   \n",
       "1   17552    1124        0  137  137   0  178       13         35        1   \n",
       "2   17552    1124        0  137  137   0  179       13         35        1   \n",
       "3   17552    1124        0  137  137   0  180       13         35        1   \n",
       "4   17552    1124        0  137  137   0  176       13         35        1   \n",
       "\n",
       "L  dayOfWeek  holidays  \n",
       "0          6         0  \n",
       "1          6         0  \n",
       "2          6         0  \n",
       "3          6         0  \n",
       "4          6         0  "
      ]
     },
     "metadata": {},
     "output_type": "display_data"
    },
    {
     "name": "stdout",
     "output_type": "stream",
     "text": [
      "Wall time: 34.4 s\n"
     ]
    }
   ],
   "source": [
    "%%time\n",
    "path = 'F:\\\\reg_prepared\\\\'\n",
    "paths = os.listdir(path=path)\n",
    "datasets = {file[-5:-6:-1]: pd.read_csv(path + file) for file in paths}\n",
    "for dataset in tqdm(datasets):\n",
    "    data = datasets[dataset]\n",
    "    data.drop(columns=['SEG_CLASS_CODE'], inplace=True)\n",
    "key, dataset_display = random.choice(list(datasets.items()))\n",
    "dataset_display.rename_axis(key, axis=\"columns\", inplace=True)\n",
    "display(dataset_display.head())\n",
    "del key, dataset_display"
   ]
  },
  {
   "cell_type": "code",
   "execution_count": 11,
   "id": "dc6f6a58",
   "metadata": {},
   "outputs": [],
   "source": [
    "def train(model: BaseEstimator, dataset: pd.DataFrame, scores: tuple) -> tuple:\n",
    "    score_train = {}\n",
    "    score_test = {}\n",
    "    X, y = dataset.drop(columns=['PASS_BK']), dataset['PASS_BK']\n",
    "    X_train, X_test, y_train, y_test = train_test_split(X, y, test_size=.25, random_state=100)\n",
    "    model = model.fit(X_train, y_train)\n",
    "    y_train_pred = model.predict(X_train)\n",
    "    y_test_pred = model.predict(X_test)\n",
    "    for score in scores:\n",
    "        score_train[str(score).split()[1]] = round(score(y_train, y_train_pred), 4)\n",
    "        score_test[str(score).split()[1]] = round(score(y_test, y_test_pred), 4)\n",
    "    return model, score_train, score_test\n",
    "\n",
    "def train_models(model: BaseEstimator, datasets: pd.DataFrame, metrics) -> tuple:\n",
    "    cycle = tqdm(datasets)\n",
    "    models, train_scores, test_scores = [], [], []\n",
    "    for dataset in cycle:\n",
    "        cycle.set_description(f\"Обучение на классе {dataset}\")\n",
    "        result_training = train(model, datasets[dataset], metrics)\n",
    "        models.append(result_training[0])\n",
    "        train_scores.append(result_training[1])\n",
    "        test_scores.append(result_training[2])\n",
    "    return models, train_scores, test_scores"
   ]
  },
  {
   "cell_type": "code",
   "execution_count": 12,
   "id": "3649e8c7",
   "metadata": {},
   "outputs": [],
   "source": [
    "metrics = (mean_absolute_error, r2_score)\n",
    "# MAE - в среднем отклонение между реальным и предсказанным значениями (меньше - лучше)\n",
    "# R2 - насколько данные соответсвуют модели (чем ближе к 1.0, тем лучше); > 80% идеал"
   ]
  },
  {
   "cell_type": "code",
   "execution_count": 13,
   "id": "508d7378",
   "metadata": {},
   "outputs": [
    {
     "name": "stderr",
     "output_type": "stream",
     "text": [
      "Обучение на классе Z: 100%|███████████████████████████████████████████████████████████| 22/22 [47:49<00:00, 130.44s/it]\n"
     ]
    }
   ],
   "source": [
    "models, train_scores, test_scores = train_models(KNeighborsRegressor(), datasets, metrics)"
   ]
  },
  {
   "cell_type": "code",
   "execution_count": 23,
   "id": "4a3ebcfa",
   "metadata": {
    "scrolled": true
   },
   "outputs": [],
   "source": [
    "for model, scd in zip(models, datasets.keys()):\n",
    "    file_name = 'F:\\\\models\\\\KNeighborsRegressor_'\n",
    "    pickle_file = open(file_name + scd, 'wb') \n",
    "    pickle.dump(model, pickle_file)  \n",
    "    pickle_file.close()"
   ]
  }
 ],
 "metadata": {
  "kernelspec": {
   "display_name": "Python 3 (ipykernel)",
   "language": "python",
   "name": "python3"
  },
  "language_info": {
   "codemirror_mode": {
    "name": "ipython",
    "version": 3
   },
   "file_extension": ".py",
   "mimetype": "text/x-python",
   "name": "python",
   "nbconvert_exporter": "python",
   "pygments_lexer": "ipython3",
   "version": "3.9.13"
  }
 },
 "nbformat": 4,
 "nbformat_minor": 5
}
