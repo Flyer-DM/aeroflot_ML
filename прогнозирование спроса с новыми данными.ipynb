{
 "cells": [
  {
   "cell_type": "code",
   "execution_count": 1,
   "id": "fa799637",
   "metadata": {},
   "outputs": [
    {
     "name": "stderr",
     "output_type": "stream",
     "text": [
      "D:\\anaconda\\lib\\site-packages\\scipy\\__init__.py:155: UserWarning: A NumPy version >=1.18.5 and <1.25.0 is required for this version of SciPy (detected version 1.26.4\n",
      "  warnings.warn(f\"A NumPy version >={np_minversion} and <{np_maxversion}\"\n"
     ]
    }
   ],
   "source": [
    "# работа с ОС\n",
    "import os\n",
    "import warnings\n",
    "# работа с данными\n",
    "import re\n",
    "import pandas as pd\n",
    "import numpy as np\n",
    "from datetime import datetime\n",
    "from tqdm import tqdm\n",
    "from sklearn.model_selection import train_test_split\n",
    "from sklearn.preprocessing import LabelEncoder\n",
    "# ML\n",
    "import tensorflow as tf\n",
    "from keras.models import Sequential\n",
    "from keras.layers import Dense, Conv1D, Flatten\n",
    "from sklearn.metrics import mean_squared_error\n",
    "# визуализация\n",
    "import matplotlib.pyplot as plt\n",
    "\n",
    "warnings.filterwarnings(\"ignore\")"
   ]
  },
  {
   "cell_type": "code",
   "execution_count": 13,
   "id": "30e5a376",
   "metadata": {},
   "outputs": [],
   "source": [
    "def preprocess(data: pd.DataFrame) -> pd.DataFrame:\n",
    "    data = data.drop(columns=['SDAT_S', 'ORIG', 'DEST', 'EQUIP', 'NS'])\n",
    "    data['DEP_TIME'] = data['DEP_TIME'].astype(str)\n",
    "    try:\n",
    "        data['FLT_MINUTES'] = data['DEP_TIME'].str.slice(start=-2).astype(int) + \\\n",
    "                              data['DEP_TIME'].str.slice(stop=-2).astype(int) * 60\n",
    "    except ValueError:\n",
    "        data['FLT_MINUTES'] = None\n",
    "    data['FLT_DAY_OF_WEEK'] = data['FLTDATE'].dt.dayofweek\n",
    "    data['FLT_WEEKEND'] = (data['FLTDATE'].dt.dayofweek > 4).astype(int)\n",
    "    data['FLT_N_DAY'] = data['FLTDATE'].dt.dayofyear\n",
    "    data['FLT_YEAR'] = data['FLTDATE'].dt.year\n",
    "    data['FLT_MONTH'] = data['FLTDATE'].dt.month\n",
    "    data['FLT_DAY'] = data['FLTDATE'].dt.day\n",
    "    data = data.drop(columns=['DEP_TIME', 'FLTDATE'])\n",
    "    data = data.drop_duplicates()\n",
    "    return data\n",
    "\n",
    "def open_inventory(filename: str, start_date: str, end_date: str,\n",
    "                   orig: str, dest: str) -> pd.DataFrame:\n",
    "    result = []\n",
    "    for date in tqdm(pd.date_range(start=start_date, end=end_date, freq='D')):\n",
    "        file_name = fr'{filename}{date.strftime(\"%d%m%Y\")}.csv'\n",
    "        try:\n",
    "            current_data = pd.read_csv(file_name, sep=';')\n",
    "            current_data['FLTDATE'] = pd.to_datetime(current_data['FLTDATE'], format='%d.%m.%Y',\n",
    "                                                     errors='coerce')\n",
    "            current_data = current_data.drop_duplicates()\n",
    "            current_data = current_data[(current_data['ORIG'] == orig) &\n",
    "                                        (current_data['DEST'] == dest)]\n",
    "            current_data = preprocess(current_data)\n",
    "            result.append(current_data)\n",
    "            del current_data\n",
    "        except FileNotFoundError:\n",
    "            continue\n",
    "    if result:\n",
    "        return pd.concat(result, ignore_index=True)\n",
    "    return pd.DataFrame()\n",
    "\n",
    "def get_classes(data: pd.DataFrame) -> dict:\n",
    "    result = {}\n",
    "    for class_code in data['BCL'].unique():\n",
    "        result.setdefault(class_code, data[data['BCL'] == class_code])\n",
    "    return result"
   ]
  },
  {
   "cell_type": "markdown",
   "id": "fe5286a6",
   "metadata": {},
   "source": [
    "Сочи-Москва за 2019 год:"
   ]
  },
  {
   "cell_type": "code",
   "execution_count": 4,
   "id": "4f2132aa",
   "metadata": {},
   "outputs": [
    {
     "name": "stderr",
     "output_type": "stream",
     "text": [
      "100%|██████████████████████████████████████████████████████████████████████████████| 365/365 [1:35:27<00:00, 15.69s/it]\n"
     ]
    },
    {
     "data": {
      "text/html": [
       "<div>\n",
       "<style scoped>\n",
       "    .dataframe tbody tr th:only-of-type {\n",
       "        vertical-align: middle;\n",
       "    }\n",
       "\n",
       "    .dataframe tbody tr th {\n",
       "        vertical-align: top;\n",
       "    }\n",
       "\n",
       "    .dataframe thead th {\n",
       "        text-align: right;\n",
       "    }\n",
       "</style>\n",
       "<table border=\"1\" class=\"dataframe\">\n",
       "  <thead>\n",
       "    <tr style=\"text-align: right;\">\n",
       "      <th></th>\n",
       "      <th>DTD</th>\n",
       "      <th>SFLTNO</th>\n",
       "      <th>SEG_NUM</th>\n",
       "      <th>CAP</th>\n",
       "      <th>BCL</th>\n",
       "      <th>AU</th>\n",
       "      <th>PASS</th>\n",
       "      <th>FCLCLD</th>\n",
       "      <th>FLT_M</th>\n",
       "      <th>FLT_H</th>\n",
       "      <th>FLT_DAY_OF_WEEK</th>\n",
       "      <th>FLT_WEEKEND</th>\n",
       "      <th>FLT_N_DAY</th>\n",
       "      <th>FLT_YEAR</th>\n",
       "      <th>FLT_MONTH</th>\n",
       "      <th>FLT_DAY</th>\n",
       "    </tr>\n",
       "  </thead>\n",
       "  <tbody>\n",
       "    <tr>\n",
       "      <th>0</th>\n",
       "      <td>217</td>\n",
       "      <td>1121</td>\n",
       "      <td>1</td>\n",
       "      <td>12</td>\n",
       "      <td>J</td>\n",
       "      <td>12</td>\n",
       "      <td>2</td>\n",
       "      <td>0</td>\n",
       "      <td>15</td>\n",
       "      <td>13</td>\n",
       "      <td>1</td>\n",
       "      <td>0</td>\n",
       "      <td>1</td>\n",
       "      <td>2019</td>\n",
       "      <td>1</td>\n",
       "      <td>1</td>\n",
       "    </tr>\n",
       "  </tbody>\n",
       "</table>\n",
       "</div>"
      ],
      "text/plain": [
       "   DTD  SFLTNO  SEG_NUM  CAP BCL  AU  PASS  FCLCLD  FLT_M  FLT_H  \\\n",
       "0  217    1121        1   12   J  12     2       0     15     13   \n",
       "\n",
       "   FLT_DAY_OF_WEEK  FLT_WEEKEND  FLT_N_DAY  FLT_YEAR  FLT_MONTH  FLT_DAY  \n",
       "0                1            0          1      2019          1        1  "
      ]
     },
     "execution_count": 4,
     "metadata": {},
     "output_type": "execute_result"
    }
   ],
   "source": [
    "inv = open_inventory(r\"F:\\new_datas\\inventory\\INV\", '2019-01-01', '2019-12-31', 'AER', 'SVO')\n",
    "inv.head(1)"
   ]
  },
  {
   "cell_type": "code",
   "execution_count": 5,
   "id": "d25b3111",
   "metadata": {},
   "outputs": [
    {
     "name": "stdout",
     "output_type": "stream",
     "text": [
      "<class 'pandas.core.frame.DataFrame'>\n",
      "RangeIndex: 20271358 entries, 0 to 20271357\n",
      "Data columns (total 16 columns):\n",
      " #   Column           Dtype \n",
      "---  ------           ----- \n",
      " 0   DTD              int64 \n",
      " 1   SFLTNO           int64 \n",
      " 2   SEG_NUM          int64 \n",
      " 3   CAP              int64 \n",
      " 4   BCL              object\n",
      " 5   AU               int64 \n",
      " 6   PASS             int64 \n",
      " 7   FCLCLD           int64 \n",
      " 8   FLT_M            int32 \n",
      " 9   FLT_H            int32 \n",
      " 10  FLT_DAY_OF_WEEK  int64 \n",
      " 11  FLT_WEEKEND      int32 \n",
      " 12  FLT_N_DAY        int64 \n",
      " 13  FLT_YEAR         int64 \n",
      " 14  FLT_MONTH        int64 \n",
      " 15  FLT_DAY          int64 \n",
      "dtypes: int32(3), int64(12), object(1)\n",
      "memory usage: 2.2+ GB\n"
     ]
    }
   ],
   "source": [
    "inv.info()"
   ]
  },
  {
   "cell_type": "code",
   "execution_count": 11,
   "id": "46b15cfd",
   "metadata": {},
   "outputs": [],
   "source": [
    "for class_code in inv['BCL'].unique():\n",
    "    sub = inv[inv['BCL'] == class_code]\n",
    "    sub.to_csv(fr'F:\\\\inv_2019_prep\\\\inv_{class_code}.csv', index=False)"
   ]
  },
  {
   "cell_type": "markdown",
   "id": "a3223d20",
   "metadata": {},
   "source": [
    "Москва-Сочи за 2019 год:"
   ]
  },
  {
   "cell_type": "code",
   "execution_count": 14,
   "id": "a0d16bdd",
   "metadata": {},
   "outputs": [
    {
     "name": "stderr",
     "output_type": "stream",
     "text": [
      "100%|██████████████████████████████████████████████████████████████████████████████| 365/365 [2:44:27<00:00, 27.04s/it]\n"
     ]
    },
    {
     "data": {
      "text/html": [
       "<div>\n",
       "<style scoped>\n",
       "    .dataframe tbody tr th:only-of-type {\n",
       "        vertical-align: middle;\n",
       "    }\n",
       "\n",
       "    .dataframe tbody tr th {\n",
       "        vertical-align: top;\n",
       "    }\n",
       "\n",
       "    .dataframe thead th {\n",
       "        text-align: right;\n",
       "    }\n",
       "</style>\n",
       "<table border=\"1\" class=\"dataframe\">\n",
       "  <thead>\n",
       "    <tr style=\"text-align: right;\">\n",
       "      <th></th>\n",
       "      <th>DTD</th>\n",
       "      <th>SFLTNO</th>\n",
       "      <th>SEG_NUM</th>\n",
       "      <th>CAP</th>\n",
       "      <th>SCL</th>\n",
       "      <th>BCL</th>\n",
       "      <th>AU</th>\n",
       "      <th>PASS</th>\n",
       "      <th>FCLCLD</th>\n",
       "      <th>FLT_MINUTES</th>\n",
       "      <th>FLT_DAY_OF_WEEK</th>\n",
       "      <th>FLT_WEEKEND</th>\n",
       "      <th>FLT_N_DAY</th>\n",
       "      <th>FLT_YEAR</th>\n",
       "      <th>FLT_MONTH</th>\n",
       "      <th>FLT_DAY</th>\n",
       "    </tr>\n",
       "  </thead>\n",
       "  <tbody>\n",
       "    <tr>\n",
       "      <th>0</th>\n",
       "      <td>217</td>\n",
       "      <td>1120</td>\n",
       "      <td>1</td>\n",
       "      <td>12</td>\n",
       "      <td>C</td>\n",
       "      <td>I</td>\n",
       "      <td>0</td>\n",
       "      <td>0</td>\n",
       "      <td>1</td>\n",
       "      <td>100</td>\n",
       "      <td>1</td>\n",
       "      <td>0</td>\n",
       "      <td>1</td>\n",
       "      <td>2019</td>\n",
       "      <td>1</td>\n",
       "      <td>1</td>\n",
       "    </tr>\n",
       "  </tbody>\n",
       "</table>\n",
       "</div>"
      ],
      "text/plain": [
       "   DTD  SFLTNO  SEG_NUM  CAP SCL BCL  AU  PASS  FCLCLD FLT_MINUTES  \\\n",
       "0  217    1120        1   12   C   I   0     0       1         100   \n",
       "\n",
       "   FLT_DAY_OF_WEEK  FLT_WEEKEND  FLT_N_DAY  FLT_YEAR  FLT_MONTH  FLT_DAY  \n",
       "0                1            0          1      2019          1        1  "
      ]
     },
     "execution_count": 14,
     "metadata": {},
     "output_type": "execute_result"
    }
   ],
   "source": [
    "inv = open_inventory(r\"F:\\new_datas\\inventory\\INV\", '2019-01-01', '2019-12-31', 'SVO', 'AER')\n",
    "inv.head(1)"
   ]
  },
  {
   "cell_type": "code",
   "execution_count": 15,
   "id": "bd8065fe",
   "metadata": {},
   "outputs": [
    {
     "name": "stdout",
     "output_type": "stream",
     "text": [
      "<class 'pandas.core.frame.DataFrame'>\n",
      "RangeIndex: 20271754 entries, 0 to 20271753\n",
      "Data columns (total 16 columns):\n",
      " #   Column           Dtype \n",
      "---  ------           ----- \n",
      " 0   DTD              int64 \n",
      " 1   SFLTNO           int64 \n",
      " 2   SEG_NUM          int64 \n",
      " 3   CAP              int64 \n",
      " 4   SCL              object\n",
      " 5   BCL              object\n",
      " 6   AU               int64 \n",
      " 7   PASS             int64 \n",
      " 8   FCLCLD           int64 \n",
      " 9   FLT_MINUTES      object\n",
      " 10  FLT_DAY_OF_WEEK  int64 \n",
      " 11  FLT_WEEKEND      int32 \n",
      " 12  FLT_N_DAY        int64 \n",
      " 13  FLT_YEAR         int64 \n",
      " 14  FLT_MONTH        int64 \n",
      " 15  FLT_DAY          int64 \n",
      "dtypes: int32(1), int64(12), object(3)\n",
      "memory usage: 2.3+ GB\n"
     ]
    }
   ],
   "source": [
    "inv.info()"
   ]
  },
  {
   "cell_type": "code",
   "execution_count": 20,
   "id": "7d01f1f8",
   "metadata": {},
   "outputs": [],
   "source": [
    "for cabin_code in inv['SCL'].unique():\n",
    "    sub = inv[inv['SCL'] == cabin_code]\n",
    "    sub.to_csv(fr'F:\\inv_2019_prep_svo-aer\\cabin_{cabin_code}.csv', index=False)"
   ]
  },
  {
   "cell_type": "markdown",
   "id": "fee7a45e",
   "metadata": {},
   "source": [
    "Подготовка данных для обучения:"
   ]
  },
  {
   "cell_type": "code",
   "execution_count": 2,
   "id": "3a7f82e8",
   "metadata": {},
   "outputs": [
    {
     "name": "stdout",
     "output_type": "stream",
     "text": [
      "<class 'pandas.core.frame.DataFrame'>\n",
      "RangeIndex: 5453946 entries, 0 to 5453945\n",
      "Data columns (total 16 columns):\n",
      " #   Column           Dtype  \n",
      "---  ------           -----  \n",
      " 0   DTD              int64  \n",
      " 1   SFLTNO           int64  \n",
      " 2   SEG_NUM          int64  \n",
      " 3   CAP              int64  \n",
      " 4   SCL              object \n",
      " 5   BCL              object \n",
      " 6   AU               int64  \n",
      " 7   PASS             int64  \n",
      " 8   FCLCLD           int64  \n",
      " 9   FLT_MINUTES      float64\n",
      " 10  FLT_DAY_OF_WEEK  int64  \n",
      " 11  FLT_WEEKEND      int64  \n",
      " 12  FLT_N_DAY        int64  \n",
      " 13  FLT_YEAR         int64  \n",
      " 14  FLT_MONTH        int64  \n",
      " 15  FLT_DAY          int64  \n",
      "dtypes: float64(1), int64(13), object(2)\n",
      "memory usage: 665.8+ MB\n",
      "None\n",
      "<class 'pandas.core.frame.DataFrame'>\n",
      "RangeIndex: 14817808 entries, 0 to 14817807\n",
      "Data columns (total 16 columns):\n",
      " #   Column           Dtype  \n",
      "---  ------           -----  \n",
      " 0   DTD              int64  \n",
      " 1   SFLTNO           int64  \n",
      " 2   SEG_NUM          int64  \n",
      " 3   CAP              int64  \n",
      " 4   SCL              object \n",
      " 5   BCL              object \n",
      " 6   AU               int64  \n",
      " 7   PASS             int64  \n",
      " 8   FCLCLD           int64  \n",
      " 9   FLT_MINUTES      float64\n",
      " 10  FLT_DAY_OF_WEEK  int64  \n",
      " 11  FLT_WEEKEND      int64  \n",
      " 12  FLT_N_DAY        int64  \n",
      " 13  FLT_YEAR         int64  \n",
      " 14  FLT_MONTH        int64  \n",
      " 15  FLT_DAY          int64  \n",
      "dtypes: float64(1), int64(13), object(2)\n",
      "memory usage: 1.8+ GB\n",
      "None\n"
     ]
    }
   ],
   "source": [
    "cabin_C = pd.read_csv(r\"F:\\inv_2019_prep_svo-aer\\cabin_C.csv\")\n",
    "cabin_Y = pd.read_csv(r\"F:\\inv_2019_prep_svo-aer\\cabin_Y.csv\")\n",
    "print(cabin_C.info())\n",
    "print(cabin_Y.info())"
   ]
  },
  {
   "cell_type": "code",
   "execution_count": 3,
   "id": "92979e43",
   "metadata": {},
   "outputs": [
    {
     "name": "stdout",
     "output_type": "stream",
     "text": [
      "(2098186, 14) (2098186,) (233132, 14) (233132,)\n"
     ]
    }
   ],
   "source": [
    "data = cabin_C.drop(columns=['SCL'])\n",
    "data = data.dropna(how='any')\n",
    "data['FLT_MINUTES'] = data['FLT_MINUTES'].astype(int)\n",
    "le = LabelEncoder()\n",
    "data['BCL'] = le.fit_transform(data['BCL'])\n",
    "X, y = data.drop(columns=['PASS']).values, data['PASS'].values\n",
    "X_train, X_test, y_train, y_test = train_test_split(X, y, test_size=0.1, random_state=42)\n",
    "print(X_train.shape, y_train.shape, X_test.shape, y_test.shape)"
   ]
  },
  {
   "cell_type": "code",
   "execution_count": 4,
   "id": "87075b00",
   "metadata": {},
   "outputs": [
    {
     "data": {
      "text/html": [
       "<pre style=\"white-space:pre;overflow-x:auto;line-height:normal;font-family:Menlo,'DejaVu Sans Mono',consolas,'Courier New',monospace\"><span style=\"font-weight: bold\">Model: \"sequential\"</span>\n",
       "</pre>\n"
      ],
      "text/plain": [
       "\u001B[1mModel: \"sequential\"\u001B[0m\n"
      ]
     },
     "metadata": {},
     "output_type": "display_data"
    },
    {
     "data": {
      "text/html": [
       "<pre style=\"white-space:pre;overflow-x:auto;line-height:normal;font-family:Menlo,'DejaVu Sans Mono',consolas,'Courier New',monospace\">┏━━━━━━━━━━━━━━━━━━━━━━━━━━━━━━━━━━━━━━┳━━━━━━━━━━━━━━━━━━━━━━━━━━━━━┳━━━━━━━━━━━━━━━━━┓\n",
       "┃<span style=\"font-weight: bold\"> Layer (type)                         </span>┃<span style=\"font-weight: bold\"> Output Shape                </span>┃<span style=\"font-weight: bold\">         Param # </span>┃\n",
       "┡━━━━━━━━━━━━━━━━━━━━━━━━━━━━━━━━━━━━━━╇━━━━━━━━━━━━━━━━━━━━━━━━━━━━━╇━━━━━━━━━━━━━━━━━┩\n",
       "│ dense (<span style=\"color: #0087ff; text-decoration-color: #0087ff\">Dense</span>)                        │ (<span style=\"color: #00d7ff; text-decoration-color: #00d7ff\">None</span>, <span style=\"color: #00af00; text-decoration-color: #00af00\">1024</span>)                │          <span style=\"color: #00af00; text-decoration-color: #00af00\">15,360</span> │\n",
       "├──────────────────────────────────────┼─────────────────────────────┼─────────────────┤\n",
       "│ dense_1 (<span style=\"color: #0087ff; text-decoration-color: #0087ff\">Dense</span>)                      │ (<span style=\"color: #00d7ff; text-decoration-color: #00d7ff\">None</span>, <span style=\"color: #00af00; text-decoration-color: #00af00\">512</span>)                 │         <span style=\"color: #00af00; text-decoration-color: #00af00\">524,800</span> │\n",
       "├──────────────────────────────────────┼─────────────────────────────┼─────────────────┤\n",
       "│ dense_2 (<span style=\"color: #0087ff; text-decoration-color: #0087ff\">Dense</span>)                      │ (<span style=\"color: #00d7ff; text-decoration-color: #00d7ff\">None</span>, <span style=\"color: #00af00; text-decoration-color: #00af00\">128</span>)                 │          <span style=\"color: #00af00; text-decoration-color: #00af00\">65,664</span> │\n",
       "├──────────────────────────────────────┼─────────────────────────────┼─────────────────┤\n",
       "│ dense_3 (<span style=\"color: #0087ff; text-decoration-color: #0087ff\">Dense</span>)                      │ (<span style=\"color: #00d7ff; text-decoration-color: #00d7ff\">None</span>, <span style=\"color: #00af00; text-decoration-color: #00af00\">32</span>)                  │           <span style=\"color: #00af00; text-decoration-color: #00af00\">4,128</span> │\n",
       "├──────────────────────────────────────┼─────────────────────────────┼─────────────────┤\n",
       "│ dense_4 (<span style=\"color: #0087ff; text-decoration-color: #0087ff\">Dense</span>)                      │ (<span style=\"color: #00d7ff; text-decoration-color: #00d7ff\">None</span>, <span style=\"color: #00af00; text-decoration-color: #00af00\">8</span>)                   │             <span style=\"color: #00af00; text-decoration-color: #00af00\">264</span> │\n",
       "├──────────────────────────────────────┼─────────────────────────────┼─────────────────┤\n",
       "│ dense_5 (<span style=\"color: #0087ff; text-decoration-color: #0087ff\">Dense</span>)                      │ (<span style=\"color: #00d7ff; text-decoration-color: #00d7ff\">None</span>, <span style=\"color: #00af00; text-decoration-color: #00af00\">1</span>)                   │               <span style=\"color: #00af00; text-decoration-color: #00af00\">9</span> │\n",
       "└──────────────────────────────────────┴─────────────────────────────┴─────────────────┘\n",
       "</pre>\n"
      ],
      "text/plain": [
       "┏━━━━━━━━━━━━━━━━━━━━━━━━━━━━━━━━━━━━━━┳━━━━━━━━━━━━━━━━━━━━━━━━━━━━━┳━━━━━━━━━━━━━━━━━┓\n",
       "┃\u001B[1m \u001B[0m\u001B[1mLayer (type)                        \u001B[0m\u001B[1m \u001B[0m┃\u001B[1m \u001B[0m\u001B[1mOutput Shape               \u001B[0m\u001B[1m \u001B[0m┃\u001B[1m \u001B[0m\u001B[1m        Param #\u001B[0m\u001B[1m \u001B[0m┃\n",
       "┡━━━━━━━━━━━━━━━━━━━━━━━━━━━━━━━━━━━━━━╇━━━━━━━━━━━━━━━━━━━━━━━━━━━━━╇━━━━━━━━━━━━━━━━━┩\n",
       "│ dense (\u001B[38;5;33mDense\u001B[0m)                        │ (\u001B[38;5;45mNone\u001B[0m, \u001B[38;5;34m1024\u001B[0m)                │          \u001B[38;5;34m15,360\u001B[0m │\n",
       "├──────────────────────────────────────┼─────────────────────────────┼─────────────────┤\n",
       "│ dense_1 (\u001B[38;5;33mDense\u001B[0m)                      │ (\u001B[38;5;45mNone\u001B[0m, \u001B[38;5;34m512\u001B[0m)                 │         \u001B[38;5;34m524,800\u001B[0m │\n",
       "├──────────────────────────────────────┼─────────────────────────────┼─────────────────┤\n",
       "│ dense_2 (\u001B[38;5;33mDense\u001B[0m)                      │ (\u001B[38;5;45mNone\u001B[0m, \u001B[38;5;34m128\u001B[0m)                 │          \u001B[38;5;34m65,664\u001B[0m │\n",
       "├──────────────────────────────────────┼─────────────────────────────┼─────────────────┤\n",
       "│ dense_3 (\u001B[38;5;33mDense\u001B[0m)                      │ (\u001B[38;5;45mNone\u001B[0m, \u001B[38;5;34m32\u001B[0m)                  │           \u001B[38;5;34m4,128\u001B[0m │\n",
       "├──────────────────────────────────────┼─────────────────────────────┼─────────────────┤\n",
       "│ dense_4 (\u001B[38;5;33mDense\u001B[0m)                      │ (\u001B[38;5;45mNone\u001B[0m, \u001B[38;5;34m8\u001B[0m)                   │             \u001B[38;5;34m264\u001B[0m │\n",
       "├──────────────────────────────────────┼─────────────────────────────┼─────────────────┤\n",
       "│ dense_5 (\u001B[38;5;33mDense\u001B[0m)                      │ (\u001B[38;5;45mNone\u001B[0m, \u001B[38;5;34m1\u001B[0m)                   │               \u001B[38;5;34m9\u001B[0m │\n",
       "└──────────────────────────────────────┴─────────────────────────────┴─────────────────┘\n"
      ]
     },
     "metadata": {},
     "output_type": "display_data"
    },
    {
     "data": {
      "text/html": [
       "<pre style=\"white-space:pre;overflow-x:auto;line-height:normal;font-family:Menlo,'DejaVu Sans Mono',consolas,'Courier New',monospace\"><span style=\"font-weight: bold\"> Total params: </span><span style=\"color: #00af00; text-decoration-color: #00af00\">610,225</span> (2.33 MB)\n",
       "</pre>\n"
      ],
      "text/plain": [
       "\u001B[1m Total params: \u001B[0m\u001B[38;5;34m610,225\u001B[0m (2.33 MB)\n"
      ]
     },
     "metadata": {},
     "output_type": "display_data"
    },
    {
     "data": {
      "text/html": [
       "<pre style=\"white-space:pre;overflow-x:auto;line-height:normal;font-family:Menlo,'DejaVu Sans Mono',consolas,'Courier New',monospace\"><span style=\"font-weight: bold\"> Trainable params: </span><span style=\"color: #00af00; text-decoration-color: #00af00\">610,225</span> (2.33 MB)\n",
       "</pre>\n"
      ],
      "text/plain": [
       "\u001B[1m Trainable params: \u001B[0m\u001B[38;5;34m610,225\u001B[0m (2.33 MB)\n"
      ]
     },
     "metadata": {},
     "output_type": "display_data"
    },
    {
     "data": {
      "text/html": [
       "<pre style=\"white-space:pre;overflow-x:auto;line-height:normal;font-family:Menlo,'DejaVu Sans Mono',consolas,'Courier New',monospace\"><span style=\"font-weight: bold\"> Non-trainable params: </span><span style=\"color: #00af00; text-decoration-color: #00af00\">0</span> (0.00 B)\n",
       "</pre>\n"
      ],
      "text/plain": [
       "\u001B[1m Non-trainable params: \u001B[0m\u001B[38;5;34m0\u001B[0m (0.00 B)\n"
      ]
     },
     "metadata": {},
     "output_type": "display_data"
    }
   ],
   "source": [
    "model = Sequential()\n",
    "model.add(Dense(1024, input_dim=X_train.shape[1], activation='relu'))\n",
    "model.add(Dense(512, activation='relu'))\n",
    "model.add(Dense(128, activation='relu'))\n",
    "model.add(Dense(32, activation='relu'))\n",
    "model.add(Dense(8, activation='relu'))\n",
    "model.add(Dense(1))\n",
    "model.compile(loss='mean_squared_error', optimizer='adam')\n",
    "model.summary()"
   ]
  },
  {
   "cell_type": "code",
   "execution_count": 5,
   "id": "d943b92b",
   "metadata": {},
   "outputs": [
    {
     "name": "stdout",
     "output_type": "stream",
     "text": [
      "Epoch 1/10\n",
      "\u001B[1m4099/4099\u001B[0m \u001B[32m━━━━━━━━━━━━━━━━━━━━\u001B[0m\u001B[37m\u001B[0m \u001B[1m115s\u001B[0m 28ms/step - loss: 14.3514 - val_loss: 1.0602\n",
      "Epoch 2/10\n",
      "\u001B[1m4099/4099\u001B[0m \u001B[32m━━━━━━━━━━━━━━━━━━━━\u001B[0m\u001B[37m\u001B[0m \u001B[1m136s\u001B[0m 26ms/step - loss: 1.0354 - val_loss: 1.0602\n",
      "Epoch 3/10\n",
      "\u001B[1m4099/4099\u001B[0m \u001B[32m━━━━━━━━━━━━━━━━━━━━\u001B[0m\u001B[37m\u001B[0m \u001B[1m147s\u001B[0m 27ms/step - loss: 1.0538 - val_loss: 1.0603\n",
      "Epoch 4/10\n",
      "\u001B[1m4099/4099\u001B[0m \u001B[32m━━━━━━━━━━━━━━━━━━━━\u001B[0m\u001B[37m\u001B[0m \u001B[1m110s\u001B[0m 27ms/step - loss: 1.0358 - val_loss: 1.0602\n",
      "Epoch 5/10\n",
      "\u001B[1m4099/4099\u001B[0m \u001B[32m━━━━━━━━━━━━━━━━━━━━\u001B[0m\u001B[37m\u001B[0m \u001B[1m113s\u001B[0m 28ms/step - loss: 1.0329 - val_loss: 1.0602\n",
      "Epoch 6/10\n",
      "\u001B[1m4099/4099\u001B[0m \u001B[32m━━━━━━━━━━━━━━━━━━━━\u001B[0m\u001B[37m\u001B[0m \u001B[1m102s\u001B[0m 25ms/step - loss: 1.0293 - val_loss: 1.0602\n",
      "Epoch 7/10\n",
      "\u001B[1m4099/4099\u001B[0m \u001B[32m━━━━━━━━━━━━━━━━━━━━\u001B[0m\u001B[37m\u001B[0m \u001B[1m150s\u001B[0m 27ms/step - loss: 1.0232 - val_loss: 1.0602\n",
      "Epoch 8/10\n",
      "\u001B[1m4099/4099\u001B[0m \u001B[32m━━━━━━━━━━━━━━━━━━━━\u001B[0m\u001B[37m\u001B[0m \u001B[1m139s\u001B[0m 26ms/step - loss: 1.0211 - val_loss: 1.0602\n",
      "Epoch 9/10\n",
      "\u001B[1m4099/4099\u001B[0m \u001B[32m━━━━━━━━━━━━━━━━━━━━\u001B[0m\u001B[37m\u001B[0m \u001B[1m100s\u001B[0m 24ms/step - loss: 1.0348 - val_loss: 1.0602\n",
      "Epoch 10/10\n",
      "\u001B[1m4099/4099\u001B[0m \u001B[32m━━━━━━━━━━━━━━━━━━━━\u001B[0m\u001B[37m\u001B[0m \u001B[1m156s\u001B[0m 28ms/step - loss: 1.0301 - val_loss: 1.0602\n",
      "\u001B[1m7286/7286\u001B[0m \u001B[32m━━━━━━━━━━━━━━━━━━━━\u001B[0m\u001B[37m\u001B[0m \u001B[1m22s\u001B[0m 3ms/step\n",
      "\u001B[1m65569/65569\u001B[0m \u001B[32m━━━━━━━━━━━━━━━━━━━━\u001B[0m\u001B[37m\u001B[0m \u001B[1m206s\u001B[0m 3ms/step - loss: 1.0419\n",
      "1.0395557880401611\n",
      "MSE: 1.0603\n"
     ]
    }
   ],
   "source": [
    "model.fit(X_train, y_train, epochs=10, batch_size=512, validation_data=(X_test, y_test), verbose=1)\n",
    "y_pred = model.predict(X_test)\n",
    "print(model.evaluate(X_train, y_train))\n",
    "print(\"MSE: %.4f\" % mean_squared_error(y_test, y_pred))"
   ]
  },
  {
   "cell_type": "code",
   "execution_count": 6,
   "id": "5ac6a507",
   "metadata": {},
   "outputs": [
    {
     "data": {
      "image/png": "[encoded data removed]",
      "text/plain": [
       "<Figure size 640x480 with 1 Axes>"
      ]
     },
     "metadata": {},
     "output_type": "display_data"
    }
   ],
   "source": [
    "x_ax = range(len(y_pred))\n",
    "plt.scatter(x_ax, y_test, s=5, color=\"blue\", label=\"original\")\n",
    "plt.plot(x_ax, y_pred, lw=0.8, color=\"red\", label=\"predicted\")\n",
    "plt.legend()\n",
    "plt.show()"
   ]
  }
 ],
 "metadata": {
  "kernelspec": {
   "display_name": "Python 3 (ipykernel)",
   "language": "python",
   "name": "python3"
  },
  "language_info": {
   "codemirror_mode": {
    "name": "ipython",
    "version": 3
   },
   "file_extension": ".py",
   "mimetype": "text/x-python",
   "name": "python",
   "nbconvert_exporter": "python",
   "pygments_lexer": "ipython3",
   "version": "3.9.13"
  }
 },
 "nbformat": 4,
 "nbformat_minor": 5
}
